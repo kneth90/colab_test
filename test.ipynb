{
  "cells": [
    {
      "cell_type": "code",
      "execution_count": 4,
      "metadata": {
        "id": "QyISmlkAGeKg",
        "colab": {
          "base_uri": "https://localhost:8080/"
        },
        "outputId": "f6ee58de-3592-4d4c-9544-b25b1eac1c60"
      },
      "outputs": [
        {
          "output_type": "stream",
          "name": "stdout",
          "text": [
            "Collecting python-dotenv\n",
            "  Downloading python_dotenv-1.0.1-py3-none-any.whl.metadata (23 kB)\n",
            "Downloading python_dotenv-1.0.1-py3-none-any.whl (19 kB)\n",
            "Installing collected packages: python-dotenv\n",
            "Successfully installed python-dotenv-1.0.1\n"
          ]
        }
      ],
      "source": [
        "# This Colab requires a recent numpy version.\n",
        "!pip install python-dotenv"
      ]
    },
    {
      "cell_type": "code",
      "source": [
        "from dotenv import load_dotenv"
      ],
      "metadata": {
        "id": "O700OSxJMQph"
      },
      "execution_count": 6,
      "outputs": []
    },
    {
      "cell_type": "code",
      "source": [
        "load_dotenv()\n",
        "\n",
        "DB_HOST = os.getenv(\"DB_HOST\")\n",
        "DB_USER = os.getenv(\"DB_USER\")\n",
        "DB_PASSWORD = os.getenv(\"DB_PASSWORD\")\n",
        "DB_NAME = os.getenv(\"DB_NAME\")\n",
        "\n",
        "# mydb = mysql.connector.connect(\n",
        "#   host=DB_HOST,\n",
        "#   user=DB_USER,\n",
        "#   password=DB_PASSWORD,\n",
        "#   database=DB_NAME,\n",
        "#   port=3306\n",
        "#)"
      ],
      "metadata": {
        "colab": {
          "base_uri": "https://localhost:8080/"
        },
        "id": "aDODE8uEL3-z",
        "outputId": "3ce210b9-6ce1-42fe-898c-bfa60a8422ca"
      },
      "execution_count": 7,
      "outputs": [
        {
          "output_type": "execute_result",
          "data": {
            "text/plain": [
              "False"
            ]
          },
          "metadata": {},
          "execution_count": 7
        }
      ]
    }
  ],
  "metadata": {
    "language_info": {
      "name": "python"
    },
    "colab": {
      "provenance": []
    },
    "kernelspec": {
      "name": "python3",
      "display_name": "Python 3"
    }
  },
  "nbformat": 4,
  "nbformat_minor": 0
}
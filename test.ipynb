{
  "cells": [
    {
      "cell_type": "code",
      "execution_count": null,
      "metadata": {
        "id": "QyISmlkAGeKg"
      },
      "outputs": [],
      "source": [
        "# This Colab requires a recent numpy version.\n",
        "pip install numpy==1.24.3\n",
        "pip install protobuf==3.20.3"
      ]
    },
    {
      "cell_type": "code",
      "source": [
        "load_dotenv()\n",
        "\n",
        "# DB_HOST = os.getenv(\"DB_HOST\")\n",
        "# DB_USER = os.getenv(\"DB_USER\")\n",
        "# DB_PASSWORD = os.getenv(\"DB_PASSWORD\")\n",
        "# DB_NAME = os.getenv(\"DB_NAME\")\n",
        "\n",
        "# mydb = mysql.connector.connect(\n",
        "#   host=DB_HOST,\n",
        "#   user=DB_USER,\n",
        "#   password=DB_PASSWORD,\n",
        "#   database=DB_NAME,\n",
        "#   port=3306\n",
        "#)"
      ],
      "metadata": {
        "id": "aDODE8uEL3-z",
        "outputId": "aecee1ba-963b-4a06-e422-b3cb886a3595",
        "colab": {
          "base_uri": "https://localhost:8080/",
          "height": 108
        }
      },
      "execution_count": 1,
      "outputs": [
        {
          "output_type": "error",
          "ename": "SyntaxError",
          "evalue": "unmatched ')' (<ipython-input-1-a99f9393579e>, line 14)",
          "traceback": [
            "\u001b[0;36m  File \u001b[0;32m\"<ipython-input-1-a99f9393579e>\"\u001b[0;36m, line \u001b[0;32m14\u001b[0m\n\u001b[0;31m    )\u001b[0m\n\u001b[0m    ^\u001b[0m\n\u001b[0;31mSyntaxError\u001b[0m\u001b[0;31m:\u001b[0m unmatched ')'\n"
          ]
        }
      ]
    }
  ],
  "metadata": {
    "language_info": {
      "name": "python"
    },
    "colab": {
      "provenance": [],
      "toc_visible": true
    },
    "kernelspec": {
      "name": "python3",
      "display_name": "Python 3"
    }
  },
  "nbformat": 4,
  "nbformat_minor": 0
}
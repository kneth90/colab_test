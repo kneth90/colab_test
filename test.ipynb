{
  "cells": [
    {
      "cell_type": "code",
      "execution_count": null,
      "metadata": {
        "id": "QyISmlkAGeKg"
      },
      "outputs": [],
      "source": [
        "# This Colab requires a recent numpy version.\n",
        "pip install numpy==1.24.3\n",
        "pip install protobuf==3.20.3"
      ]
    }
  ],
  "metadata": {
    "language_info": {
      "name": "python"
    },
    "colab": {
      "provenance": []
    }
  },
  "nbformat": 4,
  "nbformat_minor": 0
}
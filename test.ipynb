{
  "cells": [
    {
      "cell_type": "code",
      "execution_count": 4,
      "metadata": {
        "id": "QyISmlkAGeKg",
        "colab": {
          "base_uri": "https://localhost:8080/"
        },
        "outputId": "f6ee58de-3592-4d4c-9544-b25b1eac1c60"
      },
      "outputs": [
        {
          "output_type": "stream",
          "name": "stdout",
          "text": [
            "Collecting python-dotenv\n",
            "  Downloading python_dotenv-1.0.1-py3-none-any.whl.metadata (23 kB)\n",
            "Downloading python_dotenv-1.0.1-py3-none-any.whl (19 kB)\n",
            "Installing collected packages: python-dotenv\n",
            "Successfully installed python-dotenv-1.0.1\n"
          ]
        }
      ],
      "source": [
        "!pip install mysql-connector-python\n",
        "!pip install matplotlib\n",
        "!pip install requests"
      ]
    },
    {
      "cell_type": "code",
      "source": [
        "import mysql.connector\n",
        "import matplotlib.pyplot as plt\n",
        "import requests\n",
        "from PIL import Image\n",
        "import json\n",
        "from io import BytesIO\n",
        "import os"
      ],
      "metadata": {
        "id": "O700OSxJMQph"
      },
      "execution_count": 6,
      "outputs": []
    },
    {
      "cell_type": "code",
      "source": [
        "DB_HOST = \"\"\n",
        "DB_USER = \"\"\n",
        "DB_PASSWORD = \"\"\n",
        "DB_NAME = \"\"\n",
        "\n",
        "mydb = mysql.connector.connect(\n",
        "  host=DB_HOST,\n",
        "  user=DB_USER,\n",
        "  password=DB_PASSWORD,\n",
        "  database=DB_NAME,\n",
        "  port=3306\n",
        ")"
      ],
      "metadata": {
        "colab": {
          "base_uri": "https://localhost:8080/"
        },
        "id": "aDODE8uEL3-z",
        "outputId": "3ce210b9-6ce1-42fe-898c-bfa60a8422ca"
      },
      "execution_count": 7,
      "outputs": [
        {
          "output_type": "execute_result",
          "data": {
            "text/plain": [
              "False"
            ]
          },
          "metadata": {},
          "execution_count": 7
        }
      ]
    },
    {
      "cell_type": "code",
      "source": [
        "WIDTH = 480\n",
        "HEIGHT = 360"
      ],
      "metadata": {
        "id": "UGWCMBMwKzwn"
      },
      "execution_count": null,
      "outputs": []
    },
    {
      "cell_type": "code",
      "source": [
        "# get random visit id\n",
        "query = (\"SELECT visit_id FROM visit WHERE start_datetime >= %s AND start_datetime <= %s ORDER BY RAND() LIMIT 1\")\n",
        "\n",
        "\n",
        "start_datetime, end_datetime = \"2024-10-03 00:00:00\", \"2024-10-31 23:59:59\"\n",
        "\n",
        "mycursor = mydb.cursor()\n",
        "mycursor.execute(query, (start_datetime, end_datetime))\n",
        "visit_id = mycursor.fetchone()[0]\n",
        "\n",
        "VISIT_ID = visit_id\n",
        "\n",
        "query = (\n",
        "    \"select photo_path, photo_row_number, photo_column_number, photo_path, json_ir from report_display_view_json rdvj where visit_id = %s\"\n",
        ")\n",
        "\n",
        "query_2 = (\n",
        "    \"select photo_path, photo_row_number, photo_column_number, photo_path, json_ir from report_display_view_json_v3 rdvj where visit_id = %s\"\n",
        ")\n",
        "\n",
        "mycursor = mydb.cursor()\n",
        "mycursor.execute(query, (VISIT_ID,))\n",
        "myresult = mycursor.fetchall()\n",
        "\n",
        "mycursor = mydb.cursor()\n",
        "mycursor.execute(query_2, (VISIT_ID,))\n",
        "myresult_2 = mycursor.fetchall()\n",
        "\n",
        "print(\"Visit ID: \", VISIT_ID)\n",
        "print(\"Number of photos: \", len(myresult), \" and \", len(myresult_2))"
      ],
      "metadata": {
        "id": "1c8oQ_DsK1yW"
      },
      "execution_count": null,
      "outputs": []
    },
    {
      "cell_type": "code",
      "source": [
        "for i in enumerate(myresult):\n",
        "    photo_path_1, photo_row_number_1, photo_column_number_1, photo_path_1, json_ir_1 = myresult[i[0]]\n",
        "    photo_path_2, photo_row_number_2, photo_column_number_2, photo_path_2, json_ir_2 = myresult_2[i[0]]\n",
        "\n",
        "    data_1 = json.loads(json_ir_1)\n",
        "\n",
        "    data_2 = json.loads(json_ir_2) if json_ir_2 else []\n",
        "\n",
        "\n",
        "    # fig, ax = plt.subplots(figsize=(20, 12 ))\n",
        "    fig, ax = plt.subplots(figsize=(8, 5))\n",
        "    for item in data_1:\n",
        "        box = item['boxes']\n",
        "        object_name = item['object_name']\n",
        "\n",
        "        y1, x1, y2, x2 = box\n",
        "\n",
        "\n",
        "\n",
        "\n",
        "        x1 = x1 * WIDTH\n",
        "        y1 = y1 * HEIGHT\n",
        "        x2 = x2 * WIDTH\n",
        "        y2 = y2 * HEIGHT\n",
        "\n",
        "\n",
        "        rect_height = y2 - y1\n",
        "        rect_width = x2 - x1\n",
        "\n",
        "\n",
        "        rect = plt.Rectangle((x1, y1), rect_width, rect_height, linewidth=1, edgecolor='r', facecolor='none')\n",
        "        ax.add_patch(rect)\n",
        "        plt.text(x1, y1, f\"{item['object_name']} [{round(item['scores'], 2)}]\", color='white', fontsize=8, backgroundcolor='red')\n",
        "\n",
        "\n",
        "    response = requests.get(photo_path_1)\n",
        "\n",
        "    img = Image.open(BytesIO(response.content))\n",
        "    img = img.resize((WIDTH, HEIGHT))\n",
        "    plt.imshow(img)\n",
        "    plt.show()\n",
        "\n",
        "\n",
        "\n",
        "    fig, ax = plt.subplots(figsize=(8, 5))\n",
        "    for item in data_2:\n",
        "        box = item['boxes']\n",
        "        object_name = item['object_name']\n",
        "\n",
        "        y1, x1, y2, x2 = box\n",
        "\n",
        "\n",
        "\n",
        "        x1 = x1 * WIDTH\n",
        "        y1 = y1 * HEIGHT\n",
        "        x2 = x2 * WIDTH\n",
        "        y2 = y2 * HEIGHT\n",
        "\n",
        "\n",
        "        rect_height = y2 - y1\n",
        "        rect_width = x2 - x1\n",
        "\n",
        "\n",
        "        # rect = plt.Rectangle((box[0], box[1]), box[2] - box[0], box[3] - box[1], linewidth=1, edgecolor='r', facecolor='none')\n",
        "        rect = plt.Rectangle((x1, y1), rect_width, rect_height, linewidth=1, edgecolor='g', facecolor='none')\n",
        "        ax.add_patch(rect)\n",
        "        plt.text(x1, y1, f\"{item['object_name']} [{round(item['scores'], 2)}]\", color='white', fontsize=8, backgroundcolor='green', rotation=15)\n",
        "        # plt.text(x1, y1, f\"{item['object_name']} [{round(item['scores'], 2)}]\", color='white', fontsize=8, backgroundcolor='green')\n",
        "        color = \"blue\" if round(item['scores']) >= 25 else \"red\"\n",
        "        # if round(item['scores'] < 0.15:\n",
        "        plt.text((x1 + x2) / 2, (y1 + y2) / 2, f\"{round(item['scores'], 2)}%\", color='white', fontsize=8, backgroundcolor=color, ha='center', va='center')\n",
        "\n",
        "\n",
        "        # box[0] = 0 * HEIGHT\n",
        "        # box[1] = 0 * WIDTH\n",
        "        # box[2] = box[2] * HEIGHT\n",
        "        # box[3] = box[3] * WIDTH\n",
        "\n",
        "        # rect = plt.Rectangle((box[0], box[1]), box[2] - box[0], box[3] - box[1], linewidth=1, edgecolor='r', facecolor='none')\n",
        "        ax.add_patch(rect)\n",
        "        # plt.text(box[0], box[1], item['object_name'], color='white', fontsize=8, backgroundcolor='red')\n",
        "\n",
        "    response = requests.get(photo_path_2)\n",
        "\n",
        "    img = Image.open(BytesIO(response.content))\n",
        "    img = img.resize((WIDTH, HEIGHT))\n",
        "    plt.imshow(img)\n",
        "    plt.show()"
      ],
      "metadata": {
        "id": "3SYeHTFYK4RI"
      },
      "execution_count": null,
      "outputs": []
    }
  ],
  "metadata": {
    "language_info": {
      "name": "python"
    },
    "colab": {
      "provenance": []
    },
    "kernelspec": {
      "name": "python3",
      "display_name": "Python 3"
    }
  },
  "nbformat": 4,
  "nbformat_minor": 0
}